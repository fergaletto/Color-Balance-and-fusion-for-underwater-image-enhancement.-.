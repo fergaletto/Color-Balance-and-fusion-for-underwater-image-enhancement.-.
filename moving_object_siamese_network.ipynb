{
  "nbformat": 4,
  "nbformat_minor": 0,
  "metadata": {
    "colab": {
      "name": "Untitled",
      "provenance": [],
      "authorship_tag": "ABX9TyNeldhnvyKE2lZxKvWHRqj3",
      "include_colab_link": true
    },
    "kernelspec": {
      "name": "python3",
      "display_name": "Python 3"
    }
  },
  "cells": [
    {
      "cell_type": "markdown",
      "metadata": {
        "id": "view-in-github",
        "colab_type": "text"
      },
      "source": [
        "<a href=\"https://colab.research.google.com/github/fergaletto/Color-Balance-and-fusion-for-underwater-image-enhancement.-./blob/master/moving_object_siamese_network.ipynb\" target=\"_parent\"><img src=\"https://colab.research.google.com/assets/colab-badge.svg\" alt=\"Open In Colab\"/></a>"
      ]
    },
    {
      "cell_type": "markdown",
      "metadata": {
        "id": "OFVcC0e_SLMz"
      },
      "source": [
        ""
      ]
    },
    {
      "cell_type": "code",
      "metadata": {
        "id": "Y1XXKBu7SQwT"
      },
      "source": [
        "from keras.layers import Input, Conv2D, Lambda, merge, Dense, Flatten,MaxPooling2D,Activation, Dropout\r\n",
        "from keras.models import Model, Sequential\r\n",
        "from keras.regularizers import l2\r\n",
        "from keras import backend as K\r\n",
        "from keras.optimizers import Adam\r\n",
        "from skimage.io import imshow\r\n",
        "import matplotlib.pyplot as plt\r\n",
        "import numpy as np\r\n",
        "import pandas as pd\r\n",
        "import random"
      ],
      "execution_count": null,
      "outputs": []
    },
    {
      "cell_type": "code",
      "metadata": {
        "colab": {
          "base_uri": "https://localhost:8080/"
        },
        "id": "4KC3coIWSVIP",
        "outputId": "f8a9ceef-6088-455f-9d83-b58fa7a8b75f"
      },
      "source": [
        "from google.colab import drive\r\n",
        "drive.mount('/content/gdrive')"
      ],
      "execution_count": null,
      "outputs": [
        {
          "output_type": "stream",
          "text": [
            "Mounted at /content/gdrive\n"
          ],
          "name": "stdout"
        }
      ]
    },
    {
      "cell_type": "code",
      "metadata": {
        "id": "d0mjpB26SxWk"
      },
      "source": [
        "# Set the directories. \r\n",
        "DATA_PATH = '/content/gdrive/My Drive/Siamese/'\r\n",
        "SIMILAR_PATH = DATA_PATH+ 'noise'\r\n",
        "DIFFERENT_PATH = DATA_PATH+ 'moving'"
      ],
      "execution_count": null,
      "outputs": []
    },
    {
      "cell_type": "markdown",
      "metadata": {
        "id": "dH-alW_hwaj9"
      },
      "source": [
        "# Prepare the dataset from the folders generated in matlab. "
      ]
    },
    {
      "cell_type": "code",
      "metadata": {
        "id": "7At4YdvPSYte"
      },
      "source": [
        "import os\r\n",
        "import json \r\n",
        "import shutil\r\n",
        "\r\n",
        "\r\n",
        "json_file = DATA_PATH + 'labels.json' # the input json file\r\n",
        "dest_folder = DATA_PATH + 'DATASET'\r\n",
        "\r\n",
        "if not os.path.exists(dest_folder):\r\n",
        "    os.mkdir(dest_folder)\r\n",
        "\r\n",
        "\r\n",
        "def produce_pair(pairs_directory, label, json_file):\r\n",
        "  # This function reads a folder which contains pair of patches (enfing in a.png\r\n",
        "  # and split them into two separate lists + label.\r\n",
        "  # Opening Jason file\r\n",
        "  f = open(json_file)\r\n",
        "  new_data = {'left_input': '017-001-004575a.png','right_input': '017-001-004575b.png','label': 'noise'}\r\n",
        "  # return object as a dictionaty\r\n",
        "  data = json.load(f)\r\n",
        "  for root, dirs, files in os.walk(pairs_directory):\r\n",
        "      for f in files:\r\n",
        "        if (f[-5:]=='a.png'):\r\n",
        "          new_data['left_input'] = f\r\n",
        "          new_data['right_input'] = f[:-5]+'b.png'\r\n",
        "          new_data['label'] = label\r\n",
        "          #print(new_data)\r\n",
        "          data.append(new_data)\r\n",
        "\r\n",
        "        # move the images to the destination folder.\r\n",
        "        original = pairs_directory  + '/' + f\r\n",
        "        target = dest_folder + '/' + f\r\n",
        "        shutil.copyfile(original, target)\r\n",
        "\r\n",
        "  with open(json_file, \"w\") as outfile: \r\n",
        "      json.dump(data, outfile,  indent=4)\r\n",
        "\r\n",
        "\r\n",
        "\r\n",
        "\r\n",
        "produce_pair(SIMILAR_PATH, 'noise', json_file);\r\n",
        "produce_pair(DIFFERENT_PATH, 'moving', json_file);\r\n"
      ],
      "execution_count": 34,
      "outputs": []
    },
    {
      "cell_type": "markdown",
      "metadata": {
        "id": "RKUHxSTrwg_9"
      },
      "source": [
        "# Create a pickle file with the dataset. "
      ]
    },
    {
      "cell_type": "code",
      "metadata": {
        "id": "FbHNmiqKu7Ri"
      },
      "source": [
        "## Data Creation\r\n",
        "import cv2\r\n",
        "\r\n",
        "data_dir = DATA_PATH + 'DATASET'\r\n",
        "labels_file = DATA_PATH + 'labels.json'\r\n",
        "\r\n",
        "classes = ['noise', 'moving']\r\n",
        "\r\n",
        "def create_data(input_dir, labels):\r\n",
        "    X_left = []\r\n",
        "    X_right = []\r\n",
        "    Y = []\r\n",
        "    # Opening Jason file\r\n",
        "    f = open(labels)\r\n",
        "    data = json.load(f)\r\n",
        "    for r in data: \r\n",
        "        X_left.append(cv2.imread(input_dir+'/'+r['left_input']))\r\n",
        "        X_right.append(cv2.imread(input_dir+'/'+r['right_input']))\r\n",
        "        Y.append(classes.index(r[\"label\"]))\r\n",
        "    \r\n",
        "    X_left = np.asarray(X_left)\r\n",
        "    X_right = np.asarray(X_right)\r\n",
        "    Y = np.asarray(Y)\r\n",
        "    return X_left,X_right, Y\r\n",
        "\r\n",
        "  ## Create dataset\r\n",
        "left_input,right_input, targets = create_data(data_dir, labels_file)"
      ],
      "execution_count": 65,
      "outputs": []
    },
    {
      "cell_type": "code",
      "metadata": {
        "id": "4qvI2NFRu70e"
      },
      "source": [
        "# Randomize the data\r\n",
        "\r\n",
        "samples = left_input.shape[0];\r\n",
        "indices = np.arange(samples)\r\n",
        "np.random.shuffle(indices)\r\n",
        "\r\n",
        "left_input = left_input[indices]\r\n",
        "right_input = right_input[indices]\r\n",
        "targets = targets[indices]\r\n",
        "\r\n",
        "# split test and train data. \r\n",
        "X_left_train = left_input[:8*(samples//10)]\r\n",
        "X_rigth_train = right_input[:8*(samples//10)] \r\n",
        "Y_train = targets[:8*(samples//10)] \r\n",
        "\r\n",
        "X_left_test = left_input[8*(samples//10):]\r\n",
        "X_rigth_test = right_input[8*(samples//10):] \r\n",
        "Y_test = targets[8*(samples//10):] \r\n",
        "\r\n",
        "# Save pickle dataset\r\n",
        "import pickle\r\n",
        "\r\n",
        "with open(DATA_PATH + 'train.pickle', 'wb') as f:\r\n",
        "    pickle.dump([X_left_train,X_rigth_train,Y_train,X_left_test,X_rigth_test,Y_test], f)\r\n"
      ],
      "execution_count": 66,
      "outputs": []
    },
    {
      "cell_type": "markdown",
      "metadata": {
        "id": "R1qKU1M98fe_"
      },
      "source": [
        "# START FROM A SAVED PICKLE FILE"
      ]
    },
    {
      "cell_type": "code",
      "metadata": {
        "id": "1NkcPysJ5AcS"
      },
      "source": [
        "import pickle\r\n",
        "\t\r\n",
        "with open(DATA_PATH + 'train.pickle', 'rb') as f:\r\n",
        "    X_left_train,X_rigth_train,Y_train,X_left_test,X_rigth_test,Y_test = pickle.load(f)\r\n",
        "\r\n"
      ],
      "execution_count": 57,
      "outputs": []
    },
    {
      "cell_type": "markdown",
      "metadata": {
        "id": "yzKwvy5b9gW6"
      },
      "source": [
        "# Creating the structure of Siamese Network\r\n",
        "\r\n",
        "break it into some steps:\r\n",
        "1. 2 Inputs for each images\r\n",
        "2. Creating a network which both images will go through individually\r\n",
        "3. Couple the network to each input\r\n",
        "4. Calculate the L1 distance between them. Just (x1,y1)-(x2,y2)\r\n",
        "5. 1 Added layer that will say 1 if they are the same and 0 if they are \r\n",
        "\r\n",
        "## Create two Inputs for each image - left_input and right_input\r\n",
        "Hint - use Input Function in Keras and keep the shape to be the same as the data size. \r\n",
        "\r\n",
        "\r\n"
      ]
    },
    {
      "cell_type": "code",
      "metadata": {
        "id": "EdKEiejF5A-9"
      },
      "source": [
        "left_input  = Input(X_left_train.shape[1:])\r\n",
        "right_input = Input(X_rigth_train.shape[1:])"
      ],
      "execution_count": 67,
      "outputs": []
    },
    {
      "cell_type": "markdown",
      "metadata": {
        "id": "YUdtgJBE-ww1"
      },
      "source": [
        "# Create a base Network in which both images will go through individually.\r\n",
        "\r\n",
        "Sequential Model in Keras with convolution layers, Maxpooling Layers, Flatten Layer and Denser Layer with appropriate activation functions.\r\n"
      ]
    },
    {
      "cell_type": "code",
      "metadata": {
        "id": "tTXp_uC-7kPU"
      },
      "source": [
        "del base_network\r\n",
        "base_network = Sequential([\r\n",
        "               Conv2D(3,3,input_shape=X_left_train.shape[1:]), \r\n",
        "               Activation('relu'),\r\n",
        "               Conv2D(3,3),   \r\n",
        "               Activation('relu'),\r\n",
        "               MaxPooling2D(),\r\n",
        "                Conv2D(7,2),   #(N,35,35,5) -> (N,34,34,7)\r\n",
        "               Activation('relu'),\r\n",
        "               Flatten(), \r\n",
        "               Dense(8),\r\n",
        "               Activation('sigmoid') #(N,18) \r\n",
        "                               ])"
      ],
      "execution_count": 96,
      "outputs": []
    },
    {
      "cell_type": "markdown",
      "metadata": {
        "id": "feM6RfKP_7bC"
      },
      "source": [
        "# Process the left and right inputs to the same Base Network(base_network)"
      ]
    },
    {
      "cell_type": "code",
      "metadata": {
        "id": "kl_eoi86-fSx"
      },
      "source": [
        "processed_a = base_network(left_input)\r\n",
        "processed_b = base_network(right_input)"
      ],
      "execution_count": 97,
      "outputs": []
    },
    {
      "cell_type": "markdown",
      "metadata": {
        "id": "oB3lXtCUAKg9"
      },
      "source": [
        "# Get the L1 Distance layer between the 2 processed encodings (processed_a and processed_b)\r\n",
        " use Lambda function for this."
      ]
    },
    {
      "cell_type": "code",
      "metadata": {
        "id": "PGdHrVhhADC8"
      },
      "source": [
        "L1_layer = Lambda(lambda tensor:K.abs(tensor[0] - tensor[1]))"
      ],
      "execution_count": 98,
      "outputs": []
    },
    {
      "cell_type": "code",
      "metadata": {
        "id": "LMJoN2x8AHns"
      },
      "source": [
        "L1_distance = L1_layer([processed_a , processed_b])"
      ],
      "execution_count": 99,
      "outputs": []
    },
    {
      "cell_type": "markdown",
      "metadata": {
        "id": "fxp3IXcCAUNb"
      },
      "source": [
        "# Add the prediction layer in the end and create the Siamese Network using Model function."
      ]
    },
    {
      "cell_type": "code",
      "metadata": {
        "id": "c9IBlOdVAQe0"
      },
      "source": [
        "prediction = Dense(1,activation='sigmoid')(L1_distance)\r\n",
        "\r\n",
        "siamese_net = Model(inputs=[left_input,right_input],outputs=prediction)"
      ],
      "execution_count": 100,
      "outputs": []
    },
    {
      "cell_type": "markdown",
      "metadata": {
        "id": "zx9XJNGUAcOS"
      },
      "source": [
        "# Define the Optimizer Adam and Compile the Siamese Model."
      ]
    },
    {
      "cell_type": "code",
      "metadata": {
        "id": "DEDUaZaXAXzT"
      },
      "source": [
        "optimizer = Adam(0.001,decay = 1e-4)\r\n",
        "siamese_net.compile(loss='binary_crossentropy',optimizer=optimizer,metrics=['accuracy'])"
      ],
      "execution_count": 101,
      "outputs": []
    },
    {
      "cell_type": "code",
      "metadata": {
        "colab": {
          "base_uri": "https://localhost:8080/"
        },
        "id": "a8P78n0XAlKe",
        "outputId": "f158005a-6031-4fd0-8b66-ddd0f09cb977"
      },
      "source": [
        "siamese_net.summary()"
      ],
      "execution_count": 102,
      "outputs": [
        {
          "output_type": "stream",
          "text": [
            "Model: \"functional_5\"\n",
            "__________________________________________________________________________________________________\n",
            "Layer (type)                    Output Shape         Param #     Connected to                     \n",
            "==================================================================================================\n",
            "input_4 (InputLayer)            [(None, 16, 16, 3)]  0                                            \n",
            "__________________________________________________________________________________________________\n",
            "input_5 (InputLayer)            [(None, 16, 16, 3)]  0                                            \n",
            "__________________________________________________________________________________________________\n",
            "sequential_4 (Sequential)       (None, 8)            1667        input_4[0][0]                    \n",
            "                                                                 input_5[0][0]                    \n",
            "__________________________________________________________________________________________________\n",
            "lambda_2 (Lambda)               (None, 8)            0           sequential_4[0][0]               \n",
            "                                                                 sequential_4[1][0]               \n",
            "__________________________________________________________________________________________________\n",
            "dense_7 (Dense)                 (None, 1)            9           lambda_2[0][0]                   \n",
            "==================================================================================================\n",
            "Total params: 1,676\n",
            "Trainable params: 1,676\n",
            "Non-trainable params: 0\n",
            "__________________________________________________________________________________________________\n"
          ],
          "name": "stdout"
        }
      ]
    },
    {
      "cell_type": "markdown",
      "metadata": {
        "id": "ABkRN-2xAwAt"
      },
      "source": [
        "# Training!"
      ]
    },
    {
      "cell_type": "code",
      "metadata": {
        "colab": {
          "base_uri": "https://localhost:8080/"
        },
        "id": "CuBUTdiGAlm0",
        "outputId": "21ce37aa-b600-4948-d504-76c8011ebc58"
      },
      "source": [
        "siamese_net.fit([X_left_train,X_rigth_train], Y_train,\r\n",
        "          batch_size=32,\r\n",
        "          epochs=30,\r\n",
        "          verbose=1,\r\n",
        "          validation_data=([X_left_test,X_rigth_test],Y_test))"
      ],
      "execution_count": 103,
      "outputs": [
        {
          "output_type": "stream",
          "text": [
            "Epoch 1/30\n",
            "71/71 [==============================] - 1s 15ms/step - loss: 0.4658 - accuracy: 0.9858 - val_loss: 0.3095 - val_accuracy: 1.0000\n",
            "Epoch 2/30\n",
            "71/71 [==============================] - 1s 13ms/step - loss: 0.2213 - accuracy: 1.0000 - val_loss: 0.1517 - val_accuracy: 1.0000\n",
            "Epoch 3/30\n",
            "71/71 [==============================] - 1s 13ms/step - loss: 0.1038 - accuracy: 1.0000 - val_loss: 0.0700 - val_accuracy: 1.0000\n",
            "Epoch 4/30\n",
            "71/71 [==============================] - 1s 13ms/step - loss: 0.0572 - accuracy: 1.0000 - val_loss: 0.0483 - val_accuracy: 1.0000\n",
            "Epoch 5/30\n",
            "71/71 [==============================] - 1s 13ms/step - loss: 0.0432 - accuracy: 1.0000 - val_loss: 0.0387 - val_accuracy: 1.0000\n",
            "Epoch 6/30\n",
            "71/71 [==============================] - 1s 13ms/step - loss: 0.0355 - accuracy: 1.0000 - val_loss: 0.0323 - val_accuracy: 1.0000\n",
            "Epoch 7/30\n",
            "71/71 [==============================] - 1s 13ms/step - loss: 0.0301 - accuracy: 1.0000 - val_loss: 0.0277 - val_accuracy: 1.0000\n",
            "Epoch 8/30\n",
            "71/71 [==============================] - 1s 12ms/step - loss: 0.0260 - accuracy: 1.0000 - val_loss: 0.0242 - val_accuracy: 1.0000\n",
            "Epoch 9/30\n",
            "71/71 [==============================] - 1s 13ms/step - loss: 0.0228 - accuracy: 1.0000 - val_loss: 0.0214 - val_accuracy: 1.0000\n",
            "Epoch 10/30\n",
            "71/71 [==============================] - 1s 13ms/step - loss: 0.0202 - accuracy: 1.0000 - val_loss: 0.0190 - val_accuracy: 1.0000\n",
            "Epoch 11/30\n",
            "71/71 [==============================] - 1s 12ms/step - loss: 0.0180 - accuracy: 1.0000 - val_loss: 0.0170 - val_accuracy: 1.0000\n",
            "Epoch 12/30\n",
            "71/71 [==============================] - 1s 13ms/step - loss: 0.0162 - accuracy: 1.0000 - val_loss: 0.0154 - val_accuracy: 1.0000\n",
            "Epoch 13/30\n",
            "71/71 [==============================] - 1s 12ms/step - loss: 0.0147 - accuracy: 1.0000 - val_loss: 0.0139 - val_accuracy: 1.0000\n",
            "Epoch 14/30\n",
            "71/71 [==============================] - 1s 12ms/step - loss: 0.0134 - accuracy: 1.0000 - val_loss: 0.0127 - val_accuracy: 1.0000\n",
            "Epoch 15/30\n",
            "71/71 [==============================] - 1s 13ms/step - loss: 0.0122 - accuracy: 1.0000 - val_loss: 0.0116 - val_accuracy: 1.0000\n",
            "Epoch 16/30\n",
            "71/71 [==============================] - 1s 13ms/step - loss: 0.0112 - accuracy: 1.0000 - val_loss: 0.0107 - val_accuracy: 1.0000\n",
            "Epoch 17/30\n",
            "71/71 [==============================] - 1s 13ms/step - loss: 0.0103 - accuracy: 1.0000 - val_loss: 0.0099 - val_accuracy: 1.0000\n",
            "Epoch 18/30\n",
            "71/71 [==============================] - 1s 13ms/step - loss: 0.0095 - accuracy: 1.0000 - val_loss: 0.0091 - val_accuracy: 1.0000\n",
            "Epoch 19/30\n",
            "71/71 [==============================] - 1s 13ms/step - loss: 0.0088 - accuracy: 1.0000 - val_loss: 0.0085 - val_accuracy: 1.0000\n",
            "Epoch 20/30\n",
            "71/71 [==============================] - 1s 13ms/step - loss: 0.0082 - accuracy: 1.0000 - val_loss: 0.0079 - val_accuracy: 1.0000\n",
            "Epoch 21/30\n",
            "71/71 [==============================] - 1s 13ms/step - loss: 0.0077 - accuracy: 1.0000 - val_loss: 0.0074 - val_accuracy: 1.0000\n",
            "Epoch 22/30\n",
            "71/71 [==============================] - 1s 13ms/step - loss: 0.0072 - accuracy: 1.0000 - val_loss: 0.0069 - val_accuracy: 1.0000\n",
            "Epoch 23/30\n",
            "71/71 [==============================] - 1s 13ms/step - loss: 0.0067 - accuracy: 1.0000 - val_loss: 0.0065 - val_accuracy: 1.0000\n",
            "Epoch 24/30\n",
            "71/71 [==============================] - 1s 13ms/step - loss: 0.0063 - accuracy: 1.0000 - val_loss: 0.0061 - val_accuracy: 1.0000\n",
            "Epoch 25/30\n",
            "71/71 [==============================] - 1s 13ms/step - loss: 0.0059 - accuracy: 1.0000 - val_loss: 0.0057 - val_accuracy: 1.0000\n",
            "Epoch 26/30\n",
            "71/71 [==============================] - 1s 13ms/step - loss: 0.0056 - accuracy: 1.0000 - val_loss: 0.0054 - val_accuracy: 1.0000\n",
            "Epoch 27/30\n",
            "71/71 [==============================] - 1s 13ms/step - loss: 0.0052 - accuracy: 1.0000 - val_loss: 0.0051 - val_accuracy: 1.0000\n",
            "Epoch 28/30\n",
            "71/71 [==============================] - 1s 13ms/step - loss: 0.0049 - accuracy: 1.0000 - val_loss: 0.0048 - val_accuracy: 1.0000\n",
            "Epoch 29/30\n",
            "71/71 [==============================] - 1s 13ms/step - loss: 0.0047 - accuracy: 1.0000 - val_loss: 0.0045 - val_accuracy: 1.0000\n",
            "Epoch 30/30\n",
            "71/71 [==============================] - 1s 13ms/step - loss: 0.0044 - accuracy: 1.0000 - val_loss: 0.0043 - val_accuracy: 1.0000\n"
          ],
          "name": "stdout"
        },
        {
          "output_type": "execute_result",
          "data": {
            "text/plain": [
              "<tensorflow.python.keras.callbacks.History at 0x7f769bf5afd0>"
            ]
          },
          "metadata": {
            "tags": []
          },
          "execution_count": 103
        }
      ]
    },
    {
      "cell_type": "markdown",
      "metadata": {
        "id": "2p_CI6kfBb3P"
      },
      "source": [
        "# SAve the model"
      ]
    },
    {
      "cell_type": "code",
      "metadata": {
        "id": "UTABA0lgBdB0"
      },
      "source": [
        "siamese_net.save(DATA_PATH+'model2.h5')"
      ],
      "execution_count": 112,
      "outputs": []
    },
    {
      "cell_type": "markdown",
      "metadata": {
        "id": "VNEvo0PVBqN0"
      },
      "source": [
        "# evaluate the model"
      ]
    },
    {
      "cell_type": "code",
      "metadata": {
        "colab": {
          "base_uri": "https://localhost:8080/"
        },
        "id": "t2MeFm6jBpPT",
        "outputId": "a07104c6-8f7b-41f1-e8b9-d9728188fc57"
      },
      "source": [
        "import keras\r\n",
        "model = keras.models.load_model(DATA_PATH+'model.h5')\r\n",
        "import numpy as np\r\n",
        "from sklearn.metrics import classification_report\r\n",
        "y_pred = model.predict([X_left_test,X_rigth_test])\r\n",
        "\r\n",
        "\r\n",
        "print(classification_report(Y_test, np.round(y_pred)))"
      ],
      "execution_count": 110,
      "outputs": [
        {
          "output_type": "stream",
          "text": [
            "              precision    recall  f1-score   support\n",
            "\n",
            "           0       1.00      1.00      1.00       259\n",
            "           1       1.00      1.00      1.00       305\n",
            "\n",
            "    accuracy                           1.00       564\n",
            "   macro avg       1.00      1.00      1.00       564\n",
            "weighted avg       1.00      1.00      1.00       564\n",
            "\n"
          ],
          "name": "stdout"
        }
      ]
    },
    {
      "cell_type": "code",
      "metadata": {
        "colab": {
          "base_uri": "https://localhost:8080/",
          "height": 322
        },
        "id": "yM3R_tn_CRnW",
        "outputId": "5a85de41-13da-46b5-cf52-624547ee667a"
      },
      "source": [
        "\r\n",
        "\r\n",
        "# COnfusion matrix\r\n",
        "import matplotlib.pyplot as plt\r\n",
        "import seaborn as sn\r\n",
        "from sklearn.metrics import confusion_matrix\r\n",
        "\r\n",
        "ax= plt.subplot()\r\n",
        "sn.heatmap(confusion_matrix(Y_test, np.round(y_pred)), annot=True, ax = ax)\r\n",
        "#plt.show()\r\n",
        "# labels, title and ticks\r\n",
        "ax.set_xlabel('Predicted labels');ax.set_ylabel('True labels'); \r\n",
        "ax.set_title('Confusion Matrix'); \r\n",
        "ax.xaxis.set_ticklabels(classes, rotation = 90); ax.yaxis.set_ticklabels(classes, rotation = 0);\r\n",
        "\r\n"
      ],
      "execution_count": 111,
      "outputs": [
        {
          "output_type": "display_data",
          "data": {
            "image/png": "[encoded data removed]",
            "text/plain": [
              "<Figure size 432x288 with 2 Axes>"
            ]
          },
          "metadata": {
            "tags": [],
            "needs_background": "light"
          }
        }
      ]
    },
    {
      "cell_type": "code",
      "metadata": {
        "id": "MVJtS_ixCfTA"
      },
      "source": [
        ""
      ],
      "execution_count": null,
      "outputs": []
    }
  ]
}